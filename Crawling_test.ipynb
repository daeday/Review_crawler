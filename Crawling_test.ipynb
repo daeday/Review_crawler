{
  "nbformat": 4,
  "nbformat_minor": 0,
  "metadata": {
    "colab": {
      "private_outputs": true,
      "provenance": [],
      "gpuType": "T4",
      "authorship_tag": "ABX9TyPD1mrWuRE0oAh7LSYc8WGE",
      "include_colab_link": true
    },
    "kernelspec": {
      "name": "python3",
      "display_name": "Python 3"
    },
    "language_info": {
      "name": "python"
    },
    "accelerator": "GPU"
  },
  "cells": [
    {
      "cell_type": "markdown",
      "metadata": {
        "id": "view-in-github",
        "colab_type": "text"
      },
      "source": [
        "<a href=\"https://colab.research.google.com/github/daeday/Roady/blob/master/Crawling_test.ipynb\" target=\"_parent\"><img src=\"https://colab.research.google.com/assets/colab-badge.svg\" alt=\"Open In Colab\"/></a>"
      ]
    },
    {
      "cell_type": "markdown",
      "source": [
        "!pip install pybliometrics"
      ],
      "metadata": {
        "id": "_qU7QahC0E7x"
      }
    },
    {
      "cell_type": "code",
      "execution_count": null,
      "metadata": {
        "id": "5H8WSw7ozeXa"
      },
      "outputs": [],
      "source": [
        "# Scopus에서 Search하는 라이브러리를 불러옵니다.\n",
        "from pybliometrics.scopus import ScopusSearch\n",
        "import pybliometrics.scopus as scopus\n",
        "\n",
        "# 검색어: Scopus에서 키워드를 넣고 검색하면 발생하는 바로 그 검색식입니다.\n",
        "#      여기서는 도시 연구에 머신러닝과 딥러닝을 활용한 것들을 찾기로 했습니다.\n",
        "# query = ' TITLE-ABS-KEY ( machine  AND learning  OR  deep  AND learning )  AND  \\\n",
        "#           TITLE-ABS-KEY ( city )'\n",
        "query = ' TITLE-ABS-KEY ( site AND monitoring AND safety )  AND  \\\n",
        "          TITLE-ABS-KEY ( construction )'\n",

        "s = scopus.ScopusSearch(query, view='COMPLETE', api_key=api_k)\n",
        "\n",
        "s.search()\n",
        "\n",
        "# # 검색 시작\n",
        "# s = ScopusSearch(query,\n",
        "#                  view='COMPLETE',\n",
        "#                  download=True, # 검색 결과를 저장합니다.\n",
        "#                  verbose=True)  # 진행 상황을 표시합니다."
      ]
    },
    {
      "cell_type": "code",
      "source": [
        "from pybliometrics.scopus.utils import config\n",
        "# config['Authentication']['APIKey'] = api_k\n",
        "print(config['Authentication']['APIKey'])  # Show keys"
      ],
      "metadata": {
        "id": "lO0XGViUzk3l"
      },
      "execution_count": null,
      "outputs": []
    }
  ]
}
